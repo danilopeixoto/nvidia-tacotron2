{
 "cells": [
  {
   "cell_type": "markdown",
   "metadata": {},
   "source": [
    "# Download models\n",
    "\n",
    "Python 3 (Base Python) kernel"
   ]
  },
  {
   "cell_type": "markdown",
   "metadata": {},
   "source": [
    "#### Clone Apex dependency"
   ]
  },
  {
   "cell_type": "code",
   "execution_count": null,
   "metadata": {},
   "outputs": [],
   "source": [
    "!git clone https://github.com/NVIDIA/apex"
   ]
  },
  {
   "cell_type": "markdown",
   "metadata": {},
   "source": [
    "#### Clone Tacotron2 model"
   ]
  },
  {
   "cell_type": "code",
   "execution_count": null,
   "metadata": {},
   "outputs": [],
   "source": [
    "!git clone https://github.com/NVIDIA/tacotron2"
   ]
  },
  {
   "cell_type": "markdown",
   "metadata": {},
   "source": [
    "#### Clone WaveGlow model"
   ]
  },
  {
   "cell_type": "code",
   "execution_count": null,
   "metadata": {},
   "outputs": [],
   "source": [
    "!cd tacotron2 && git submodule update --init --recursive"
   ]
  },
  {
   "cell_type": "markdown",
   "metadata": {},
   "source": [
    "#### Download Tacotron2 pretrained model"
   ]
  },
  {
   "cell_type": "code",
   "execution_count": null,
   "metadata": {},
   "outputs": [],
   "source": [
    "!cd tacotron2 && mkdir outdir && wget 'https://www.dropbox.com/s/68wwbk2jzgb9j1g/tacotron2_statedict.pt?dl=1' -O outdir/tacotron2_statedict.pt"
   ]
  },
  {
   "cell_type": "markdown",
   "metadata": {},
   "source": [
    "#### Download WaveGlow pretrained model"
   ]
  },
  {
   "cell_type": "code",
   "execution_count": null,
   "metadata": {},
   "outputs": [],
   "source": [
    "!cd tacotron2/waveglow && mkdir outdir && wget 'https://www.dropbox.com/s/ag6hbtmdaraa5a6/waveglow_256channels_universal_v5.pt?dl=1' -O outdir/waveglow_256channels_universal_v5.pt"
   ]
  },
  {
   "cell_type": "markdown",
   "metadata": {},
   "source": [
    "#### Fix package requirements"
   ]
  },
  {
   "cell_type": "code",
   "execution_count": null,
   "metadata": {},
   "outputs": [],
   "source": [
    "!cd tacotron2 && sed 's/numpy==1.13.3/numpy>=1.13.3/g;s/scipy==1.0.0/scipy>=1.0.4/g' -i requirements.txt && echo 'numba==0.48' >> requirements.txt"
   ]
  },
  {
   "cell_type": "code",
   "execution_count": null,
   "metadata": {},
   "outputs": [],
   "source": [
    "!cd tacotron2/waveglow && sed 's/torch==1.0/torch>=1.4.0/g;s/numpy==1.13.3/numpy>=1.13.3/g;s/scipy==1.0.0/scipy>=1.0.4/g;' -i requirements.txt"
   ]
  },
  {
   "cell_type": "markdown",
   "metadata": {},
   "source": [
    "#### Setup WaveGlow model"
   ]
  },
  {
   "cell_type": "code",
   "execution_count": null,
   "metadata": {},
   "outputs": [],
   "source": [
    "!cd tacotron2/waveglow && sed -i 's/\"output_directory\": \"checkpoints\"/\"output_directory\": \"outdir\"/g;s/\"epochs\": 100000/\"epochs\": 1000/g;s/\"with_tensorboard\": false/\"with_tensorboard\": true/g' config.json"
   ]
  },
  {
   "cell_type": "markdown",
   "metadata": {},
   "source": [
    "#### Setup LJSpeech dataset for Tacotron2 model"
   ]
  },
  {
   "cell_type": "code",
   "execution_count": null,
   "metadata": {},
   "outputs": [],
   "source": [
    "!cd tacotron2 && sed -i -- 's,DUMMY,../LJSpeech-1.1/wavs,g' filelists/*.txt"
   ]
  },
  {
   "cell_type": "markdown",
   "metadata": {},
   "source": [
    "#### Setup LJSpeech dataset for WaveGlow model\n",
    "\n",
    "Ignore broken pipe error"
   ]
  },
  {
   "cell_type": "code",
   "execution_count": null,
   "metadata": {},
   "outputs": [],
   "source": [
    "!cd tacotron2/waveglow && export DATASET=../../LJSpeech-1.1/wavs && (ls $DATASET/*.wav | tail -n+10 > train_files.txt) && (ls $DATASET/*.wav | head -n10 > test_files.txt)"
   ]
  }
 ],
 "metadata": {
  "kernelspec": {
   "display_name": "Python 3 (Base Python)",
   "language": "python",
   "name": "python3__SAGEMAKER_INTERNAL__arn:aws:sagemaker:us-east-1:081325390199:image/python-3.6"
  },
  "language_info": {
   "codemirror_mode": {
    "name": "ipython",
    "version": 3
   },
   "file_extension": ".py",
   "mimetype": "text/x-python",
   "name": "python",
   "nbconvert_exporter": "python",
   "pygments_lexer": "ipython3",
   "version": "3.6.13"
  }
 },
 "nbformat": 4,
 "nbformat_minor": 4
}
